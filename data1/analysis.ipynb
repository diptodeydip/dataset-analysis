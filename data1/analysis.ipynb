{
 "cells": [
  {
   "cell_type": "code",
   "execution_count": 65,
   "metadata": {},
   "outputs": [],
   "source": [
    "import json \n",
    "import matplotlib.pyplot as plt "
   ]
  },
  {
   "cell_type": "code",
   "execution_count": 37,
   "metadata": {},
   "outputs": [],
   "source": [
    "def readJsonManually():\n",
    "    f = open('data.json','r', encoding='utf8')\n",
    "    data = json.load(f) \n",
    "    f.close()\n",
    "    return data\n",
    "\n",
    "def saveJson(dictt):\n",
    "    f = open('newData.json','w', encoding='utf8')\n",
    "    data = json.dump(dictt,f) \n",
    "    f.close()"
   ]
  },
  {
   "cell_type": "code",
   "execution_count": 38,
   "metadata": {},
   "outputs": [],
   "source": [
    "data = readJsonManually()"
   ]
  },
  {
   "cell_type": "code",
   "execution_count": 39,
   "metadata": {},
   "outputs": [],
   "source": [
    "userInfo = data['UserInfo']"
   ]
  },
  {
   "cell_type": "code",
   "execution_count": 40,
   "metadata": {},
   "outputs": [],
   "source": [
    "targetHistory = data['TargetHistory']"
   ]
  },
  {
   "cell_type": "code",
   "execution_count": 41,
   "metadata": {},
   "outputs": [],
   "source": [
    "usageHistory = data['UsageHistory']"
   ]
  },
  {
   "cell_type": "code",
   "execution_count": 42,
   "metadata": {},
   "outputs": [
    {
     "name": "stdout",
     "output_type": "stream",
     "text": [
      "2016331012\n",
      "2016331102\n",
      "2016331072\n",
      "2016331006\n",
      "2016331049\n",
      "0000000202\n"
     ]
    }
   ],
   "source": [
    "st = {}\n",
    "st = set()\n",
    "\n",
    "for x in userInfo:\n",
    "  user = userInfo[x]\n",
    "  if \"weekFourTwoStartTime\" in user:\n",
    "    st.add(x)\n",
    "\n",
    "for x in userInfo:\n",
    "  user = userInfo[x]\n",
    "  if \"weekThreeStartTime\" in user:\n",
    "    item = checkPoints[x]\n",
    "    if item['weekNumber'] == 1:\n",
    "      st.add(x)\n",
    "\n",
    "for i in st:\n",
    "  print(i)"
   ]
  },
  {
   "cell_type": "code",
   "execution_count": 43,
   "metadata": {},
   "outputs": [],
   "source": [
    "tempUserInfo = {}\n",
    "tempUsage = {}\n",
    "tempTarget = {}\n",
    "\n",
    "for i in st:\n",
    "    tempUserInfo[i] = userInfo[i]\n",
    "    tempUsage[i] = usageHistory[i]\n",
    "    tempTarget[i] = targetHistory[i]\n",
    "    \n",
    "\n",
    "userInfo = tempUserInfo\n",
    "targetHistory = tempTarget\n",
    "usageHistory = tempUsage\n",
    "data['TargetHistory'] = targetHistory\n",
    "data['UserInfo'] = userInfo\n",
    "data['UsageHistory'] = usageHistory\n",
    "\n",
    "saveJson(data)\n"
   ]
  },
  {
   "cell_type": "code",
   "execution_count": 44,
   "metadata": {},
   "outputs": [],
   "source": [
    "weekPeriod = 7 * 24 * 60 * 60 * 1000\n",
    "hour = 60 * 60 * 1000"
   ]
  },
  {
   "cell_type": "code",
   "execution_count": 64,
   "metadata": {},
   "outputs": [
    {
     "name": "stdout",
     "output_type": "stream",
     "text": [
      "[20445367.666666668, 12746715.333333334, 17466657.5]\n"
     ]
    }
   ],
   "source": [
    "\"weekOneStartTime\"\n",
    "\"weekTwoStartTime\"\n",
    "\"weekThreeStartTime\"\n",
    "\n",
    "weekOne = 0\n",
    "weekTwo = 0\n",
    "weekThree = 0\n",
    "weekFour = 0\n",
    "\n",
    "avgUsage = [0,0,0]\n",
    "\n",
    "userCount = 0\n",
    "\n",
    "for key in userInfo:\n",
    "    userCount+=1\n",
    "    user = userInfo[key]\n",
    "    weekTwo = user[\"weekTwoStartTime\"]\n",
    "    weekOne = weekTwo - weekPeriod\n",
    "    weekThree = weekTwo + weekPeriod\n",
    "    weekFour = weekThree + weekPeriod\n",
    "\n",
    "    \n",
    "    usage = usageHistory[key]\n",
    "    \n",
    "    for i in range(weekOne,weekTwo,hour):\n",
    "        ind = str(i)\n",
    "        if ind in usage:\n",
    "            hourlyUsageArray = usage[ind]\n",
    "            hourlyUsage = hourlyUsageArray[0]\n",
    "            avgUsage[0]+=hourlyUsage[\"foregroundTime\"]\n",
    "            \n",
    "    for i in range(weekTwo,weekThree,hour):\n",
    "        ind = str(i)\n",
    "        if ind in usage:\n",
    "            hourlyUsageArray = usage[ind]\n",
    "            hourlyUsage = hourlyUsageArray[0]\n",
    "            avgUsage[1]+=hourlyUsage[\"foregroundTime\"]\n",
    "            \n",
    "            \n",
    "    for i in range(weekThree,weekFour,hour):\n",
    "        ind = str(i)\n",
    "        if ind in usage:\n",
    "            hourlyUsageArray = usage[ind]\n",
    "            hourlyUsage = hourlyUsageArray[0]\n",
    "            avgUsage[2]+=hourlyUsage[\"foregroundTime\"]\n",
    "            \n",
    "            \n",
    "avgUsage = [x / userCount for x in avgUsage]\n",
    "print(avgUsage)"
   ]
  },
  {
   "cell_type": "code",
   "execution_count": 71,
   "metadata": {
    "scrolled": true
   },
   "outputs": [
    {
     "data": {
      "text/plain": [
       "<BarContainer object of 3 artists>"
      ]
     },
     "execution_count": 71,
     "metadata": {},
     "output_type": "execute_result"
    },
    {
     "data": {
      "image/png": "[encoded data removed]",
      "text/plain": [
       "<Figure size 432x288 with 1 Axes>"
      ]
     },
     "metadata": {
      "needs_background": "light"
     },
     "output_type": "display_data"
    }
   ],
   "source": [
    "tick_label = ['Week1', 'Week2', 'Week3']\n",
    "left = [1,2,3]\n",
    "plt.xlabel('x - axis') \n",
    "plt.ylabel('y - axis')\n",
    "plt.title('Average Weekly Usage chart') \n",
    "plt.bar(left, avgUsage\n",
    ", tick_label = tick_label, \n",
    "        width = 0.8, color = ['green']) "
   ]
  }
 ],
 "metadata": {
  "kernelspec": {
   "display_name": "Python 3",
   "language": "python",
   "name": "python3"
  },
  "language_info": {
   "codemirror_mode": {
    "name": "ipython",
    "version": 3
   },
   "file_extension": ".py",
   "mimetype": "text/x-python",
   "name": "python",
   "nbconvert_exporter": "python",
   "pygments_lexer": "ipython3",
   "version": "3.7.6"
  }
 },
 "nbformat": 4,
 "nbformat_minor": 4
}
