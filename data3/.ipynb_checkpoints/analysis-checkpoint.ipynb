{
 "cells": [
  {
   "cell_type": "code",
   "execution_count": 1,
   "metadata": {},
   "outputs": [],
   "source": [
    "import json \n",
    "import matplotlib.pyplot as plt \n",
    "import numpy as np\n",
    "import datetime"
   ]
  },
  {
   "cell_type": "code",
   "execution_count": 2,
   "metadata": {},
   "outputs": [],
   "source": [
    "def readJsonManually():\n",
    "    f = open('data.json','r', encoding='utf8')\n",
    "    data = json.load(f) \n",
    "    f.close()\n",
    "    return data\n",
    "\n",
    "def saveJson(dictt):\n",
    "    f = open('newData.json','w', encoding='utf8')\n",
    "    data = json.dump(dictt,f) \n",
    "    f.close()"
   ]
  },
  {
   "cell_type": "code",
   "execution_count": 3,
   "metadata": {},
   "outputs": [],
   "source": [
    "weekPeriod = 7 * 24 * 60 * 60 * 1000\n",
    "hour = 60 * 60 * 1000"
   ]
  },
  {
   "cell_type": "code",
   "execution_count": 4,
   "metadata": {},
   "outputs": [],
   "source": [
    "data = readJsonManually()"
   ]
  },
  {
   "cell_type": "code",
   "execution_count": 5,
   "metadata": {},
   "outputs": [],
   "source": [
    "userInfo = data['UserInfo']"
   ]
  },
  {
   "cell_type": "code",
   "execution_count": 6,
   "metadata": {},
   "outputs": [],
   "source": [
    "targetHistory = data['TargetHistory']"
   ]
  },
  {
   "cell_type": "code",
   "execution_count": 7,
   "metadata": {},
   "outputs": [],
   "source": [
    "usageHistory = data['UsageHistory']"
   ]
  },
  {
   "cell_type": "code",
   "execution_count": 8,
   "metadata": {},
   "outputs": [
    {
     "name": "stdout",
     "output_type": "stream",
     "text": [
      "2016331012\n",
      "2016615144\n",
      "2016331037\n",
      "2016331068\n",
      "2016331066\n",
      "2016331099\n",
      "2016331102\n",
      "0000000202\n",
      "2016331049\n"
     ]
    }
   ],
   "source": [
    "st = {}\n",
    "st = set()\n",
    "\n",
    "for x in userInfo:\n",
    "    user = userInfo[x]\n",
    "    if \"weekFourTwoStartTime\" in user:\n",
    "        st.add(x)\n",
    "\n",
    "for x in userInfo:\n",
    "    user = userInfo[x]\n",
    "    if \"weekThreeStartTime\" in user:\n",
    "        item = targetHistory[x]\n",
    "        if item['weekNumber'] == 1:\n",
    "            st.add(x)\n",
    "\n",
    "st.discard('2016331006')\n",
    "for i in st:\n",
    "    print(i)"
   ]
  },
  {
   "cell_type": "code",
   "execution_count": 9,
   "metadata": {},
   "outputs": [],
   "source": [
    "def hhmmss(milis):\n",
    "    temp = datetime.datetime.fromtimestamp(milis / 1000).strftime('%H:%M:%S')\n",
    "    return temp"
   ]
  },
  {
   "cell_type": "markdown",
   "metadata": {},
   "source": [
    "# combine split data"
   ]
  },
  {
   "cell_type": "code",
   "execution_count": 10,
   "metadata": {},
   "outputs": [],
   "source": [
    "data1 = userInfo['2016331089']\n",
    "data2 = userInfo['20163331089']\n",
    "weekThreeOfdataTwo = data2['weekOneStartTime']\n",
    "data1['weekThreeStartTime'] = weekThreeOfdataTwo\n",
    "userInfo['2016331089'] = data1 #userInfo has been combined\n",
    "\n",
    "weekFour = weekThreeOfdataTwo+weekPeriod\n",
    "item1 = usageHistory['2016331089']\n",
    "item2 = usageHistory['20163331089']\n",
    "\n",
    "for i in range(weekThreeOfdataTwo,weekFour,hour):\n",
    "        ind = str(i)\n",
    "        if ind in item2:\n",
    "            item1[ind] = item2[ind]\n",
    "usageHistory['2016331089'] = item1 #usageHistory  has been combined\n",
    "\n",
    "st.add('2016331089')"
   ]
  },
  {
   "cell_type": "markdown",
   "metadata": {},
   "source": [
    "# new json generation"
   ]
  },
  {
   "cell_type": "code",
   "execution_count": 11,
   "metadata": {},
   "outputs": [],
   "source": [
    "tempUserInfo = {}\n",
    "tempUsage = {}\n",
    "tempTarget = {}\n",
    "\n",
    "for i in st:\n",
    "    tempUserInfo[i] = userInfo[i]\n",
    "    tempUsage[i] = usageHistory[i]\n",
    "    tempTarget[i] = targetHistory[i]\n",
    "    \n",
    "\n",
    "userInfo = tempUserInfo\n",
    "targetHistory = tempTarget\n",
    "usageHistory = tempUsage\n",
    "data['TargetHistory'] = targetHistory\n",
    "data['UserInfo'] = userInfo\n",
    "data['UsageHistory'] = usageHistory\n",
    "\n",
    "saveJson(data)\n"
   ]
  },
  {
   "cell_type": "markdown",
   "metadata": {},
   "source": [
    "# plot average weekly usage in one graph"
   ]
  },
  {
   "cell_type": "code",
   "execution_count": 12,
   "metadata": {},
   "outputs": [
    {
     "name": "stdout",
     "output_type": "stream",
     "text": [
      "[149809955.4, 137826628.7, 155915227.5]\n"
     ]
    },
    {
     "ename": "IndexError",
     "evalue": "list index out of range",
     "output_type": "error",
     "traceback": [
      "\u001b[1;31m---------------------------------------------------------------------------\u001b[0m",
      "\u001b[1;31mIndexError\u001b[0m                                Traceback (most recent call last)",
      "\u001b[1;32m<ipython-input-12-a100de40ad70>\u001b[0m in \u001b[0;36m<module>\u001b[1;34m\u001b[0m\n\u001b[0;32m     51\u001b[0m \u001b[0mavgUsage\u001b[0m \u001b[1;33m=\u001b[0m \u001b[1;33m[\u001b[0m\u001b[0mx\u001b[0m \u001b[1;33m/\u001b[0m \u001b[0muserCount\u001b[0m \u001b[1;32mfor\u001b[0m \u001b[0mx\u001b[0m \u001b[1;32min\u001b[0m \u001b[0mavgUsage\u001b[0m\u001b[1;33m]\u001b[0m\u001b[1;33m\u001b[0m\u001b[1;33m\u001b[0m\u001b[0m\n\u001b[0;32m     52\u001b[0m \u001b[0mprint\u001b[0m\u001b[1;33m(\u001b[0m\u001b[0mavgUsage\u001b[0m\u001b[1;33m)\u001b[0m\u001b[1;33m\u001b[0m\u001b[1;33m\u001b[0m\u001b[0m\n\u001b[1;32m---> 53\u001b[1;33m \u001b[0mprint\u001b[0m\u001b[1;33m(\u001b[0m\u001b[1;34m\"{0} , {1} , {2}\"\u001b[0m\u001b[1;33m.\u001b[0m\u001b[0mformat\u001b[0m\u001b[1;33m(\u001b[0m\u001b[0mhhmmss\u001b[0m\u001b[1;33m(\u001b[0m\u001b[0mavgUsage\u001b[0m\u001b[1;33m[\u001b[0m\u001b[1;36m0\u001b[0m\u001b[1;33m]\u001b[0m\u001b[1;33m)\u001b[0m\u001b[1;33m,\u001b[0m\u001b[0mhhmmss\u001b[0m\u001b[1;33m(\u001b[0m\u001b[0mavgUsage\u001b[0m\u001b[1;33m[\u001b[0m\u001b[1;36m1\u001b[0m\u001b[1;33m]\u001b[0m\u001b[1;33m)\u001b[0m\u001b[1;33m,\u001b[0m\u001b[0mhhmmss\u001b[0m\u001b[1;33m(\u001b[0m\u001b[0mavgUsage\u001b[0m\u001b[1;33m[\u001b[0m\u001b[1;36m3\u001b[0m\u001b[1;33m]\u001b[0m\u001b[1;33m)\u001b[0m\u001b[1;33m)\u001b[0m\u001b[1;33m)\u001b[0m\u001b[1;33m\u001b[0m\u001b[1;33m\u001b[0m\u001b[0m\n\u001b[0m",
      "\u001b[1;31mIndexError\u001b[0m: list index out of range"
     ]
    }
   ],
   "source": [
    "\"weekOneStartTime\"\n",
    "\"weekTwoStartTime\"\n",
    "\"weekThreeStartTime\"\n",
    "\n",
    "weekOne = 0\n",
    "weekTwo = 0\n",
    "weekThree = 0\n",
    "weekFour = 0\n",
    "\n",
    "avgUsage = [0,0,0]\n",
    "\n",
    "userCount = 0\n",
    "\n",
    "for key in userInfo:\n",
    "    userCount+=1\n",
    "    user = userInfo[key]\n",
    "    weekTwo = user[\"weekTwoStartTime\"]\n",
    "    weekOne = weekTwo - weekPeriod\n",
    "    weekThree = weekTwo + weekPeriod\n",
    "    weekFour = weekThree + weekPeriod\n",
    "\n",
    "    \n",
    "    usage = usageHistory[key]\n",
    "    \n",
    "    for i in range(weekOne,weekTwo,hour):\n",
    "        ind = str(i)\n",
    "        if ind in usage:\n",
    "            hourlyUsageArray = usage[ind]\n",
    "            for hourlyUsage in hourlyUsageArray:\n",
    "                #hourlyUsage = hourlyUsageArray[0]\n",
    "                avgUsage[0]+=hourlyUsage[\"foregroundTime\"]\n",
    "            \n",
    "    for i in range(weekTwo,weekThree,hour):\n",
    "        ind = str(i)\n",
    "        if ind in usage:\n",
    "            hourlyUsageArray = usage[ind]\n",
    "            for hourlyUsage in hourlyUsageArray:\n",
    "                #hourlyUsage = hourlyUsageArray[0]\n",
    "                avgUsage[1]+=hourlyUsage[\"foregroundTime\"]\n",
    "            \n",
    "            \n",
    "    for i in range(weekThree,weekFour,hour):\n",
    "        ind = str(i)\n",
    "        if ind in usage:\n",
    "            hourlyUsageArray = usage[ind]\n",
    "            for hourlyUsage in hourlyUsageArray:\n",
    "                #hourlyUsage = hourlyUsageArray[0]\n",
    "                avgUsage[2]+=hourlyUsage[\"foregroundTime\"]\n",
    "            \n",
    "            \n",
    "avgUsage = [x / userCount for x in avgUsage]\n",
    "print(avgUsage)\n",
    "2"
   ]
  },
  {
   "cell_type": "code",
   "execution_count": null,
   "metadata": {},
   "outputs": [],
   "source": [
    "print(userCount)\n",
    "print(len(st))"
   ]
  },
  {
   "cell_type": "code",
   "execution_count": null,
   "metadata": {
    "scrolled": true
   },
   "outputs": [],
   "source": [
    "tick_label = ['Week1', 'Week2', 'Week3']\n",
    "left = [1,2,3]\n",
    "plt.xlabel('x - axis') \n",
    "plt.ylabel('y - axis')\n",
    "plt.title('Average Weekly Usage chart') \n",
    "plt.bar(left, avgUsage\n",
    ", tick_label = tick_label, \n",
    "        width = 0.8, color = ['green']) "
   ]
  },
  {
   "cell_type": "markdown",
   "metadata": {},
   "source": [
    "# plot all in one graph"
   ]
  },
  {
   "cell_type": "code",
   "execution_count": null,
   "metadata": {},
   "outputs": [],
   "source": [
    "\"weekOneStartTime\"\n",
    "\"weekTwoStartTime\"\n",
    "\"weekThreeStartTime\"\n",
    "\n",
    "weekOne = 0\n",
    "weekTwo = 0\n",
    "weekThree = 0\n",
    "weekFour = 0\n",
    "\n",
    "\n",
    "\n",
    "userCount = 0\n",
    "\n",
    "#fig, ax = plt.subplots(ncols=10, figsize=(30, 10))\n",
    "fig, ax = plt.subplots(figsize=(20,5))\n",
    "\n",
    "\n",
    "def autolabel(rects):\n",
    "    \"\"\"Attach a text label above each bar in *rects*, displaying its height.\"\"\"\n",
    "    for rect in rects:\n",
    "        height = rect.get_height()\n",
    "        ax.annotate('{}'.format(height),\n",
    "                    xy=(rect.get_x() + rect.get_width() / 2, height),\n",
    "                    xytext=(0, 3),  # 3 points vertical offset\n",
    "                    textcoords=\"offset points\",\n",
    "                    ha='center', va='bottom')\n",
    "\n",
    "for key in userInfo:\n",
    "    userCount+=1\n",
    "    user = userInfo[key]\n",
    "    weekTwo = user[\"weekTwoStartTime\"]\n",
    "    weekOne = weekTwo - weekPeriod\n",
    "    weekThree = weekTwo + weekPeriod\n",
    "    weekFour = weekThree + weekPeriod\n",
    "\n",
    "    \n",
    "    usage = usageHistory[key]\n",
    "    avgUsage = [0,0,0]\n",
    "    \n",
    "    for i in range(weekOne,weekTwo,hour):\n",
    "        ind = str(i)\n",
    "        if ind in usage:\n",
    "            hourlyUsageArray = usage[ind]\n",
    "            for hourlyUsage in hourlyUsageArray:\n",
    "                #hourlyUsage = hourlyUsageArray[0]\n",
    "                avgUsage[0]+=hourlyUsage[\"foregroundTime\"]\n",
    "            \n",
    "    for i in range(weekTwo,weekThree,hour):\n",
    "        ind = str(i)\n",
    "        if ind in usage:\n",
    "            hourlyUsageArray = usage[ind]\n",
    "            for hourlyUsage in hourlyUsageArray:\n",
    "                #hourlyUsage = hourlyUsageArray[0]\n",
    "                avgUsage[1]+=hourlyUsage[\"foregroundTime\"]\n",
    "            \n",
    "            \n",
    "    for i in range(weekThree,weekFour,hour):\n",
    "        ind = str(i)\n",
    "        if ind in usage:\n",
    "            hourlyUsageArray = usage[ind]\n",
    "            for hourlyUsage in hourlyUsageArray:\n",
    "                #hourlyUsage = hourlyUsageArray[0]\n",
    "                avgUsage[2]+=hourlyUsage[\"foregroundTime\"]\n",
    "            \n",
    "    print(avgUsage)\n",
    "    print(\"{0} , {1} , {2}\".format(hhmmss(avgUsage[0]),hhmmss(avgUsage[1]),hhmmss(avgUsage[3])))\n",
    "    print(key)\n",
    "    \n",
    "    tick_label = ['Week1', 'Week2', 'Week3']\n",
    "    x = np.arange(0,21,10) # the label locations for max 10 user currently\n",
    "    width = 0.8  # the width of the bars\n",
    "    \n",
    "    rect = ax.bar(x+userCount-1, avgUsage, width, label=key)\n",
    "    autolabel(rect)\n",
    "\n",
    "ax.set_ylabel('Time in Milis')\n",
    "ax.set_title('Weekly Usage chart')\n",
    "ax.set_xticks(x)\n",
    "ax.set_xticklabels(tick_label)\n",
    "ax.legend()\n",
    "fig.tight_layout()\n",
    "    \n",
    "plt.show()"
   ]
  },
  {
   "cell_type": "markdown",
   "metadata": {},
   "source": [
    "# plot all in seperate graphs"
   ]
  },
  {
   "cell_type": "code",
   "execution_count": null,
   "metadata": {},
   "outputs": [],
   "source": [
    "\"weekOneStartTime\"\n",
    "\"weekTwoStartTime\"\n",
    "\"weekThreeStartTime\"\n",
    "\n",
    "weekOne = 0\n",
    "weekTwo = 0\n",
    "weekThree = 0\n",
    "weekFour = 0\n",
    "\n",
    "\n",
    "\n",
    "userCount = 0\n",
    "\n",
    "fig, ax = plt.subplots(ncols=len(st), figsize=(35, 15)) # len(st) number of user\n",
    "#fig, ax = plt.subplots()\n",
    "\n",
    "\n",
    "def autolabel(rects):\n",
    "    \"\"\"Attach a text label above each bar in *rects*, displaying its height.\"\"\"\n",
    "    for rect in rects:\n",
    "        height = rect.get_height()\n",
    "        ax.annotate('{}'.format(height),\n",
    "                    xy=(rect.get_x() + rect.get_width() / 2, height),\n",
    "                    xytext=(0, 3),  # 3 points vertical offset\n",
    "                    textcoords=\"offset points\",\n",
    "                    ha='center', va='bottom')\n",
    "\n",
    "for key in userInfo:\n",
    "    userCount+=1\n",
    "    user = userInfo[key]\n",
    "    weekTwo = user[\"weekTwoStartTime\"]\n",
    "    weekOne = weekTwo - weekPeriod\n",
    "    weekThree = weekTwo + weekPeriod\n",
    "    weekFour = weekThree + weekPeriod\n",
    "\n",
    "    \n",
    "    usage = usageHistory[key]\n",
    "    avgUsage = [0,0,0]\n",
    "    \n",
    "    for i in range(weekOne,weekTwo,hour):\n",
    "        ind = str(i)\n",
    "        if ind in usage:\n",
    "            hourlyUsageArray = usage[ind]\n",
    "            for hourlyUsage in hourlyUsageArray:\n",
    "                #hourlyUsage = hourlyUsageArray[0]\n",
    "                avgUsage[0]+=hourlyUsage[\"foregroundTime\"]\n",
    "            \n",
    "    for i in range(weekTwo,weekThree,hour):\n",
    "        ind = str(i)\n",
    "        if ind in usage:\n",
    "            hourlyUsageArray = usage[ind]\n",
    "            for hourlyUsage in hourlyUsageArray:\n",
    "                #hourlyUsage = hourlyUsageArray[0]\n",
    "                avgUsage[1]+=hourlyUsage[\"foregroundTime\"]\n",
    "            \n",
    "            \n",
    "    for i in range(weekThree,weekFour,hour):\n",
    "        ind = str(i)\n",
    "        if ind in usage:\n",
    "            hourlyUsageArray = usage[ind]\n",
    "            for hourlyUsage in hourlyUsageArray:\n",
    "                #hourlyUsage = hourlyUsageArray[0]\n",
    "                avgUsage[2]+=hourlyUsage[\"foregroundTime\"]\n",
    "            \n",
    "    print(avgUsage)\n",
    "    print(key)\n",
    "    \n",
    "    tick_label = ['Week1', 'Week2', 'Week3']\n",
    "    x = np.arange(0,21,10) # the label locations\n",
    "    width = 0.8  # the width of the bars\n",
    "    \n",
    "    rect = ax[userCount-1].bar(x+userCount, avgUsage, width, label=key)\n",
    "    #autolabel(rect)\n",
    "    ax[userCount-1].set_ylabel('Time in Milis')\n",
    "    ax[userCount-1].set_title('Weekly Usage chart')\n",
    "    ax[userCount-1].set_xticks(x)\n",
    "    ax[userCount-1].set_xticklabels(tick_label)\n",
    "    ax[userCount-1].legend()\n",
    "    fig.tight_layout()\n",
    "    \n",
    "plt.show()"
   ]
  }
 ],
 "metadata": {
  "kernelspec": {
   "display_name": "Python 3",
   "language": "python",
   "name": "python3"
  },
  "language_info": {
   "codemirror_mode": {
    "name": "ipython",
    "version": 3
   },
   "file_extension": ".py",
   "mimetype": "text/x-python",
   "name": "python",
   "nbconvert_exporter": "python",
   "pygments_lexer": "ipython3",
   "version": "3.7.6"
  }
 },
 "nbformat": 4,
 "nbformat_minor": 4
}
