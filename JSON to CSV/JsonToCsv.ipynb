{
 "cells": [
  {
   "cell_type": "code",
   "execution_count": 157,
   "metadata": {},
   "outputs": [],
   "source": [
    "import json \n",
    "import matplotlib.pyplot as plt \n",
    "import numpy as np\n",
    "import datetime\n",
    "import csv\n",
    "\n"
   ]
  },
  {
   "cell_type": "code",
   "execution_count": 158,
   "metadata": {},
   "outputs": [],
   "source": [
    "def readJsonManually(name):\n",
    "    f = open(name,'r', encoding='utf8')\n",
    "    data = json.load(f) \n",
    "    f.close()\n",
    "    return data\n",
    "\n",
    "def saveJson(dictt):\n",
    "    f = open('newData.json','w', encoding='utf8')\n",
    "    data = json.dump(dictt,f) \n",
    "    f.close()"
   ]
  },
  {
   "cell_type": "code",
   "execution_count": 159,
   "metadata": {},
   "outputs": [],
   "source": [
    "data = readJsonManually('data6.json')"
   ]
  },
  {
   "cell_type": "code",
   "execution_count": 160,
   "metadata": {},
   "outputs": [],
   "source": [
    "userInfo = data['UserInfo']\n",
    "targetHistory = data['TargetHistory']\n",
    "usageHistory = data['UsageHistory']"
   ]
  },
  {
   "cell_type": "markdown",
   "metadata": {},
   "source": [
    "#### user.csv"
   ]
  },
  {
   "cell_type": "code",
   "execution_count": 161,
   "metadata": {},
   "outputs": [],
   "source": [
    "listofList = []\n",
    "\n",
    "for key in userInfo:\n",
    "        ls = []\n",
    "        item = userInfo[key]\n",
    "        ls.append(int(item['regNo']))\n",
    "        ls.append(item['gender'])\n",
    "        ls.append(float(item['cg']))\n",
    "        ls.append(item['weekOneStartTime'])\n",
    "        ls.append(item['weekTwoStartTime'])\n",
    "        ls.append(item['weekThreeStartTime'])\n",
    "        listofList.append(ls)"
   ]
  },
  {
   "cell_type": "code",
   "execution_count": 162,
   "metadata": {},
   "outputs": [],
   "source": [
    "with open(\"user.csv\", \"w\", newline=\"\") as f:\n",
    "    writer = csv.writer(f)\n",
    "    writer.writerow(['Reg No', 'Gender', 'Cg' , 'Week One', 'Week Two', 'Week Three'])\n",
    "    writer.writerows(listofList)"
   ]
  },
  {
   "cell_type": "markdown",
   "metadata": {},
   "source": [
    "#### usage.csv"
   ]
  },
  {
   "cell_type": "code",
   "execution_count": 163,
   "metadata": {},
   "outputs": [],
   "source": [
    "listofList = []\n",
    "\n",
    "for key in usageHistory:\n",
    "    \n",
    "    item = usageHistory[key]\n",
    "    for hr in item:\n",
    "        arr = item[hr]\n",
    "        for app in arr:\n",
    "            ls = []\n",
    "            ls.append(key)\n",
    "            ls.append(hr)\n",
    "            ls.append(app['packageName'])\n",
    "            ls.append(app['foregroundTime'])\n",
    "            ls.append(app['launchCount'])\n",
    "            listofList.append(ls)\n",
    "            "
   ]
  },
  {
   "cell_type": "code",
   "execution_count": 164,
   "metadata": {},
   "outputs": [],
   "source": [
    "with open(\"usage.csv\", \"w\", newline=\"\") as f:\n",
    "    writer = csv.writer(f)\n",
    "    writer.writerow(['Reg No', 'Hour', 'Package Name' , 'Foreground Time', 'Launch Count'])\n",
    "    writer.writerows(listofList)"
   ]
  },
  {
   "cell_type": "markdown",
   "metadata": {},
   "source": [
    "#### applications.csv"
   ]
  },
  {
   "cell_type": "code",
   "execution_count": 165,
   "metadata": {},
   "outputs": [],
   "source": [
    "listofList = []\n",
    "\n",
    "for key in targetHistory:\n",
    "    item = targetHistory[key]\n",
    "    apps = item['appsInstallationInfo']\n",
    "    for app in apps:\n",
    "        appItem = apps[app]\n",
    "        ls = []\n",
    "        ls.append(key)\n",
    "        ls.append(app.replace(\"_dot_\",'.')) # app hocche packageName\n",
    "        ls.append(appItem['installationTime'])\n",
    "        listofList.append(ls)"
   ]
  },
  {
   "cell_type": "code",
   "execution_count": 166,
   "metadata": {},
   "outputs": [],
   "source": [
    "with open(\"applications.csv\", \"w\", newline=\"\") as f:\n",
    "    writer = csv.writer(f)\n",
    "    writer.writerow(['Reg No', 'packageName', 'installationTime'])\n",
    "    writer.writerows(listofList)"
   ]
  },
  {
   "cell_type": "markdown",
   "metadata": {},
   "source": [
    "#### targetInfo.csv"
   ]
  },
  {
   "cell_type": "code",
   "execution_count": 167,
   "metadata": {},
   "outputs": [],
   "source": [
    "listofList = []\n",
    "\n",
    "for key in targetHistory:\n",
    "    item = targetHistory[key]\n",
    "    apps = item['appsInfo']\n",
    "    for app in apps:\n",
    "        appItem = apps[app]\n",
    "        ls = []\n",
    "        ls.append(key)\n",
    "        ls.append(app.replace(\"_dot_\",'.')) # app hocche packageName\n",
    "        ls.append(appItem['dailyTarget'])\n",
    "        ls.append(appItem['weeklyTarget'])\n",
    "        listofList.append(ls)"
   ]
  },
  {
   "cell_type": "code",
   "execution_count": 168,
   "metadata": {},
   "outputs": [],
   "source": [
    "with open(\"targetInfo.csv\", \"w\", newline=\"\") as f:\n",
    "    writer = csv.writer(f)\n",
    "    writer.writerow(['Reg No', 'packageName', 'dailyTarget', 'dailyTarget'])\n",
    "    writer.writerows(listofList)"
   ]
  }
 ],
 "metadata": {
  "kernelspec": {
   "display_name": "Python 3",
   "language": "python",
   "name": "python3"
  },
  "language_info": {
   "codemirror_mode": {
    "name": "ipython",
    "version": 3
   },
   "file_extension": ".py",
   "mimetype": "text/x-python",
   "name": "python",
   "nbconvert_exporter": "python",
   "pygments_lexer": "ipython3",
   "version": "3.7.6"
  }
 },
 "nbformat": 4,
 "nbformat_minor": 4
}
