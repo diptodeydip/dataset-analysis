{
 "cells": [
  {
   "cell_type": "code",
   "execution_count": 1,
   "metadata": {},
   "outputs": [],
   "source": [
    "import json \n",
    "import matplotlib.pyplot as plt \n",
    "import numpy as np\n",
    "import datetime"
   ]
  },
  {
   "cell_type": "code",
   "execution_count": 2,
   "metadata": {},
   "outputs": [],
   "source": [
    "def readJsonManually(name):\n",
    "    f = open(name,'r', encoding='utf8')\n",
    "    data = json.load(f) \n",
    "    f.close()\n",
    "    return data\n",
    "\n",
    "def saveJson(dictt):\n",
    "    f = open('newData.json','w', encoding='utf8')\n",
    "    data = json.dump(dictt,f) \n",
    "    f.close()"
   ]
  },
  {
   "cell_type": "code",
   "execution_count": 73,
   "metadata": {},
   "outputs": [],
   "source": [
    "weekPeriod = 7 * 24 * 60 * 60 * 1000\n",
    "hour = 60 * 60 * 1000\n",
    "day = 24 * 60 * 60 * 1000"
   ]
  },
  {
   "cell_type": "code",
   "execution_count": 4,
   "metadata": {},
   "outputs": [],
   "source": [
    "def convertMillis(millis):\n",
    "    hours=int(millis/(1000*60*60))\n",
    "    hours = int(hours)\n",
    "    millis-=hours*60*60*1000\n",
    "    \n",
    "    minutes=int(millis/(1000*60))\n",
    "    minutes = int(minutes)\n",
    "    millis-=minutes*60*1000\n",
    "    \n",
    "    seconds=int(millis/1000)\n",
    "    seconds = int(seconds)\n",
    "   \n",
    "    \n",
    "    \n",
    "    return str(hours)+\":\"+str(minutes)+\":\"+str(seconds)"
   ]
  },
  {
   "cell_type": "markdown",
   "metadata": {},
   "source": [
    "# Already created dataset\n",
    "#### currently some issues are happening at database. so we are combining new data with previously collected valid data"
   ]
  },
  {
   "cell_type": "code",
   "execution_count": 5,
   "metadata": {},
   "outputs": [],
   "source": [
    "previousData= readJsonManually('data4.json')  #already collected valid data at checkpoint data3 folder \n",
    "#data3 is newjson of data3 folder"
   ]
  },
  {
   "cell_type": "code",
   "execution_count": 6,
   "metadata": {},
   "outputs": [
    {
     "name": "stdout",
     "output_type": "stream",
     "text": [
      "0000000202\n",
      "2016615144\n",
      "2016331099\n",
      "2016331068\n",
      "2016331066\n",
      "2016331012\n",
      "2016331037\n",
      "2016331089\n",
      "2016331049\n",
      "2016331102\n"
     ]
    }
   ],
   "source": [
    "#list of already completed users\n",
    "userInfoPrevious = data3['UserInfo']\n",
    "targetHistoryPrevious = data3['TargetHistory']\n",
    "usageHistoryPrevious = data3['UsageHistory']\n",
    "\n",
    "flag = {}\n",
    "\n",
    "for x in userInfoPrevious:\n",
    "    print(x)\n",
    "    flag[x] = True\n"
   ]
  },
  {
   "cell_type": "markdown",
   "metadata": {},
   "source": [
    "# New dataset"
   ]
  },
  {
   "cell_type": "code",
   "execution_count": 7,
   "metadata": {},
   "outputs": [],
   "source": [
    "data = readJsonManually('data.json')"
   ]
  },
  {
   "cell_type": "code",
   "execution_count": 8,
   "metadata": {},
   "outputs": [],
   "source": [
    "userInfo = data['UserInfo']\n",
    "targetHistory = data['TargetHistory']\n",
    "usageHistory = data['UsageHistory']"
   ]
  },
  {
   "cell_type": "code",
   "execution_count": 9,
   "metadata": {},
   "outputs": [
    {
     "name": "stdout",
     "output_type": "stream",
     "text": [
      "2016331072\n"
     ]
    }
   ],
   "source": [
    "# list of new users whose 3 weeks expermient are done\n",
    "\n",
    "st = {}\n",
    "st = set()\n",
    "\n",
    "for x in userInfo:\n",
    "    user = userInfo[x]\n",
    "    if \"weekFourTwoStartTime\" in user:\n",
    "        if x not in flag:\n",
    "            st.add(x)\n",
    "\n",
    "for x in userInfo:\n",
    "    user = userInfo[x]\n",
    "    if \"weekThreeStartTime\" in user:\n",
    "        item = targetHistory[x]\n",
    "        if item['weekNumber'] == 1:\n",
    "            if x not in flag:\n",
    "                st.add(x)\n",
    "                \n",
    "st.discard('2016331006')\n",
    "\n",
    "for i in st:\n",
    "    print(i)"
   ]
  },
  {
   "cell_type": "markdown",
   "metadata": {},
   "source": [
    "# new json generation"
   ]
  },
  {
   "cell_type": "code",
   "execution_count": 10,
   "metadata": {},
   "outputs": [
    {
     "name": "stdout",
     "output_type": "stream",
     "text": [
      "{'2016331072', '2016331012', '2016331037', '2016331099', '2016331066', '2016331049', '2016331068', '0000000202', '2016331089', '2016331102', '2016615144'}\n",
      "11\n"
     ]
    }
   ],
   "source": [
    "for i in st:\n",
    "    userInfoPrevious[i] = userInfo[i]\n",
    "    usageHistoryPrevious[i] = usageHistory[i]\n",
    "    targetHistoryPrevious[i] = targetHistory[i]\n",
    "    \n",
    "data3['TargetHistory'] = targetHistoryPrevious\n",
    "data3['UserInfo'] = userInfoPrevious\n",
    "data3['UsageHistory'] = usageHistoryPrevious\n",
    "    \n",
    "saveJson(data3)\n",
    "\n",
    "# new data saved now assign all the data as previous\n",
    "userInfo = userInfoPrevious\n",
    "usageHistory = usageHistoryPrevious\n",
    "targetHistory = targetHistoryPrevious\n",
    "# these dicts will be used afterwards\n",
    "\n",
    "# add all users key to st\n",
    "for x in userInfo:\n",
    "    st.add(x)\n",
    "print(st)\n",
    "print(len(st))"
   ]
  },
  {
   "cell_type": "markdown",
   "metadata": {},
   "source": [
    "# Functions"
   ]
  },
  {
   "cell_type": "code",
   "execution_count": 75,
   "metadata": {},
   "outputs": [],
   "source": [
    "def getUsageOrLaunchCount(startTime,endTime,hour,appsInstallationTime,usage,purpose,weekOne):\n",
    "    packageName = \"\"\n",
    "    usageTimeorCount = 0\n",
    "    for i in range(startTime,endTime,hour):\n",
    "        ind = str(i)\n",
    "        if ind in usage:\n",
    "            hourlyUsageArray = usage[ind]\n",
    "            for hourlyUsage in hourlyUsageArray:\n",
    "                packageName = hourlyUsage[\"packageName\"].replace('.','_dot_')\n",
    "                if packageName in appsInstallationTime:\n",
    "                    installTime = appsInstallationTime[packageName]['installationTime']\n",
    "                    if installTime < weekOne:\n",
    "                        #hourlyUsage = hourlyUsageArray[0]\n",
    "                        usageTimeorCount+=hourlyUsage[purpose]\n",
    "                else:\n",
    "                    #print(packageName)\n",
    "                    pass\n",
    "    return usageTimeorCount\n",
    "\n",
    "def getAverageWeeklyUsage(purpose):\n",
    "    \"weekOneStartTime\"\n",
    "    \"weekTwoStartTime\"\n",
    "    \"weekThreeStartTime\"\n",
    "\n",
    "    weekOne = 0\n",
    "    weekTwo = 0\n",
    "    weekThree = 0\n",
    "    weekFour = 0\n",
    "\n",
    "    avgUsageOrLaunch = [0,0,0]\n",
    "\n",
    "    userCount = 0\n",
    "\n",
    "    for key in userInfo:\n",
    "        userCount+=1\n",
    "        user = userInfo[key]\n",
    "        weekTwo = user[\"weekTwoStartTime\"]\n",
    "        weekOne = weekTwo - weekPeriod\n",
    "        weekThree = weekTwo + weekPeriod\n",
    "        weekFour = weekThree + weekPeriod\n",
    "\n",
    "\n",
    "        usage = usageHistory[key]\n",
    "        appsInstallationTime = targetHistory[key]['appsInstallationInfo']\n",
    "\n",
    "        avgUsageOrLaunch[0]+= getUsageOrLaunchCount(weekOne,weekTwo,hour,appsInstallationTime,usage,purpose,weekOne)\n",
    "        avgUsageOrLaunch[1]+= getUsageOrLaunchCount(weekTwo,weekThree,hour,appsInstallationTime,usage,purpose,weekOne)\n",
    "        avgUsageOrLaunch[2]+= getUsageOrLaunchCount(weekThree,weekFour,hour,appsInstallationTime,usage,purpose,weekOne)\n",
    "\n",
    "\n",
    "    avgUsageOrLaunch = [int(x / userCount) for x in avgUsageOrLaunch]\n",
    "    print(avgUsageOrLaunch)\n",
    "    \n",
    "    if purpose == \"foregroundTime\":\n",
    "        print(\"{0} , {1} , {2}\".format(convertMillis(avgUsageOrLaunch[0]),convertMillis(avgUsageOrLaunch[1]),convertMillis(avgUsageOrLaunch[2])))\n",
    "\n",
    "    tick_label = ['Week1', 'Week2', 'Week3']\n",
    "    left = [1,2,3]\n",
    "    plt.xlabel('x - axis') \n",
    "    plt.ylabel('y - axis')\n",
    "    if purpose == \"foregroundTime\":\n",
    "        plt.title('Average Weekly Usage chart') \n",
    "    else:\n",
    "        plt.title('Average Weekly Launch Count chart') \n",
    "    plt.bar(left, avgUsageOrLaunch\n",
    "    , tick_label = tick_label, \n",
    "            width = 0.8, color = ['green']) \n",
    "    \n",
    "def plotIndividualUsersUsageInSeperateGraphs(purpose):\n",
    "    \"weekOneStartTime\"\n",
    "    \"weekTwoStartTime\"\n",
    "    \"weekThreeStartTime\"\n",
    "\n",
    "    weekOne = 0\n",
    "    weekTwo = 0\n",
    "    weekThree = 0\n",
    "    weekFour = 0\n",
    "\n",
    "\n",
    "\n",
    "    userCount = 0\n",
    "\n",
    "    fig, ax = plt.subplots(ncols=len(st), figsize=(35, 5)) # len(st) number of user\n",
    "    #fig, ax = plt.subplots()\n",
    "\n",
    "\n",
    "    def autolabel(rects):\n",
    "        \"\"\"Attach a text label above each bar in *rects*, displaying its height.\"\"\"\n",
    "        for rect in rects:\n",
    "            height = rect.get_height()\n",
    "            ax.annotate('{}'.format(height),\n",
    "                        xy=(rect.get_x() + rect.get_width() / 2, height),\n",
    "                        xytext=(0, 3),  # 3 points vertical offset\n",
    "                        textcoords=\"offset points\",\n",
    "                        ha='center', va='bottom')\n",
    "\n",
    "    for key in userInfo:\n",
    "        userCount+=1\n",
    "        user = userInfo[key]\n",
    "        weekTwo = user[\"weekTwoStartTime\"]\n",
    "        weekOne = weekTwo - weekPeriod\n",
    "        weekThree = weekTwo + weekPeriod\n",
    "        weekFour = weekThree + weekPeriod\n",
    "\n",
    "\n",
    "        usage = usageHistory[key]\n",
    "        avgUsageOrLaunch = [0,0,0]\n",
    "\n",
    "        appsInstallationTime = targetHistory[key]['appsInstallationInfo']\n",
    "\n",
    "        avgUsageOrLaunch[0]+= getUsageOrLaunchCount(weekOne,weekTwo,hour,appsInstallationTime,usage,purpose,weekOne)\n",
    "        avgUsageOrLaunch[1]+= getUsageOrLaunchCount(weekTwo,weekThree,hour,appsInstallationTime,usage,purpose,weekOne)\n",
    "        avgUsageOrLaunch[2]+= getUsageOrLaunchCount(weekThree,weekFour,hour,appsInstallationTime,usage,purpose,weekOne)\n",
    "\n",
    "        print(avgUsageOrLaunch)\n",
    "        \n",
    "        if purpose == \"foregroundTime\":\n",
    "            print(\"{0} , {1} , {2}\".format(convertMillis(avgUsageOrLaunch[0]),convertMillis(avgUsageOrLaunch[1]),convertMillis(avgUsageOrLaunch[2])))\n",
    "            print(\"average daily usages in week1 {0}\".format(convertMillis((avgUsageOrLaunch[0])/7.0)))\n",
    "        print(key)\n",
    "        \n",
    "        tick_label = ['Week1', 'Week2', 'Week3']\n",
    "        x = np.arange(0,21,10) # the label locations\n",
    "        width = 0.8  # the width of the bars\n",
    "\n",
    "        rect = ax[userCount-1].bar(x, avgUsageOrLaunch, width, label=key)\n",
    "        #autolabel(rect)\n",
    "        \n",
    "        if purpose == \"foregroundTime\":\n",
    "            ax[userCount-1].set_ylabel('Time in Milis')\n",
    "            ax[userCount-1].set_title('Weekly Usage chart')\n",
    "        else:\n",
    "            ax[userCount-1].set_ylabel('Launched')\n",
    "            ax[userCount-1].set_title('Weekly Launch Count chart')\n",
    "        ax[userCount-1].set_xticks(x)\n",
    "        ax[userCount-1].set_xticklabels(tick_label)\n",
    "        ax[userCount-1].legend()\n",
    "        fig.tight_layout()\n",
    "\n",
    "    plt.show()"
   ]
  },
  {
   "cell_type": "markdown",
   "metadata": {},
   "source": [
    "# plot average weekly usage in one graph"
   ]
  },
  {
   "cell_type": "code",
   "execution_count": 76,
   "metadata": {},
   "outputs": [
    {
     "name": "stdout",
     "output_type": "stream",
     "text": [
      "[148293930, 132454639, 142461493]\n",
      "41:11:33 , 36:47:34 , 39:34:21\n"
     ]
    },
    {
     "data": {
      "image/png": "[encoded data removed]",
      "text/plain": [
       "<Figure size 432x288 with 1 Axes>"
      ]
     },
     "metadata": {
      "needs_background": "light"
     },
     "output_type": "display_data"
    }
   ],
   "source": [
    "getAverageWeeklyUsage(\"foregroundTime\")"
   ]
  },
  {
   "cell_type": "markdown",
   "metadata": {},
   "source": [
    "# plot all in one graph"
   ]
  },
  {
   "cell_type": "code",
   "execution_count": null,
   "metadata": {
    "scrolled": true
   },
   "outputs": [],
   "source": [
    "\"weekOneStartTime\"\n",
    "\"weekTwoStartTime\"\n",
    "\"weekThreeStartTime\"\n",
    "\n",
    "weekOne = 0\n",
    "weekTwo = 0\n",
    "weekThree = 0\n",
    "weekFour = 0\n",
    "\n",
    "\n",
    "\n",
    "userCount = 0\n",
    "\n",
    "#fig, ax = plt.subplots(ncols=10, figsize=(30, 10))\n",
    "fig, ax = plt.subplots(figsize=(20,5))\n",
    "\n",
    "\n",
    "def autolabel(rects):\n",
    "    \"\"\"Attach a text label above each bar in *rects*, displaying its height.\"\"\"\n",
    "    for rect in rects:\n",
    "        height = rect.get_height()\n",
    "        ax.annotate('{}'.format(height),\n",
    "                    xy=(rect.get_x() + rect.get_width() / 2, height),\n",
    "                    xytext=(0, 3),  # 3 points vertical offset\n",
    "                    textcoords=\"offset points\",\n",
    "                    ha='center', va='bottom')\n",
    "\n",
    "for key in userInfo:\n",
    "    userCount+=1\n",
    "    user = userInfo[key]\n",
    "    weekTwo = user[\"weekTwoStartTime\"]\n",
    "    weekOne = weekTwo - weekPeriod\n",
    "    weekThree = weekTwo + weekPeriod\n",
    "    weekFour = weekThree + weekPeriod\n",
    "\n",
    "    \n",
    "    usage = usageHistory[key]\n",
    "    avgUsage = [0,0,0]\n",
    "    \n",
    "    appsInstallationTime = targetHistory[key]['appsInstallationInfo']\n",
    "    \n",
    "    avgUsage[0]+= getUsageOrLaunchCount(weekOne,weekTwo,hour,appsInstallationTime,usage,\"foregroundTime\",weekOne)\n",
    "    avgUsage[1]+= getUsageOrLaunchCount(weekTwo,weekThree,hour,appsInstallationTime,usage,\"foregroundTime\",weekOne)\n",
    "    avgUsage[2]+= getUsageOrLaunchCount(weekThree,weekFour,hour,appsInstallationTime,usage,\"foregroundTime\",weekOne)\n",
    "            \n",
    "    print(avgUsage)\n",
    "    print(\"{0} , {1} , {2}\".format(convertMillis(avgUsage[0]),convertMillis(avgUsage[1]),convertMillis(avgUsage[2])))\n",
    "    print(key)\n",
    "    \n",
    "    tick_label = ['Week1', 'Week2', 'Week3']\n",
    "    x = np.arange(0,len(st)*2+1,len(st)) # the label locations for max 10 user currently\n",
    "    width = 0.8  # the width of the bars\n",
    "    \n",
    "    rect = ax.bar(x+userCount-1, avgUsage, width, label=key)\n",
    "    autolabel(rect)\n",
    "\n",
    "ax.set_ylabel('Time in Milis')\n",
    "ax.set_title('Weekly Usage chart')\n",
    "ax.set_xticks(x)\n",
    "ax.set_xticklabels(tick_label)\n",
    "ax.legend()\n",
    "fig.tight_layout()\n",
    "    \n",
    "plt.show()"
   ]
  },
  {
   "cell_type": "markdown",
   "metadata": {},
   "source": [
    "# plot individual users usage in seperate graphs"
   ]
  },
  {
   "cell_type": "code",
   "execution_count": 77,
   "metadata": {},
   "outputs": [
    {
     "name": "stdout",
     "output_type": "stream",
     "text": [
      "[232109511, 277404191, 275335767]\n",
      "64:28:29 , 77:3:24 , 76:28:55\n",
      "average daily usages in week1 9:12:38\n",
      "0000000202\n",
      "[102348697, 133559099, 137695002]\n",
      "28:25:48 , 37:5:59 , 38:14:55\n",
      "average daily usages in week1 4:3:41\n",
      "2016615144\n",
      "[152578906, 150297262, 122818351]\n",
      "42:22:58 , 41:44:57 , 34:6:58\n",
      "average daily usages in week1 6:3:16\n",
      "2016331099\n",
      "[147983660, 113768330, 131245480]\n",
      "41:6:23 , 31:36:8 , 36:27:25\n",
      "average daily usages in week1 5:52:20\n",
      "2016331068\n",
      "[100772698, 70354346, 131114757]\n",
      "27:59:32 , 19:32:34 , 36:25:14\n",
      "average daily usages in week1 3:59:56\n",
      "2016331066\n",
      "[80980845, 78645535, 70922364]\n",
      "22:29:40 , 21:50:45 , 19:42:2\n",
      "average daily usages in week1 3:12:48\n",
      "2016331012\n",
      "[78090589, 57796653, 105650891]\n",
      "21:41:30 , 16:3:16 , 29:20:50\n",
      "average daily usages in week1 3:5:55\n",
      "2016331037\n",
      "[302750830, 208935137, 275808096]\n",
      "84:5:50 , 58:2:15 , 76:36:48\n",
      "average daily usages in week1 12:0:50\n",
      "2016331089\n",
      "[169074061, 143053202, 178055425]\n",
      "46:57:54 , 39:44:13 , 49:27:35\n",
      "average daily usages in week1 6:42:33\n",
      "2016331049\n",
      "[101068282, 88664970, 64129754]\n",
      "28:4:28 , 24:37:44 , 17:48:49\n",
      "average daily usages in week1 4:0:38\n",
      "2016331102\n",
      "[163475151, 134522311, 74300544]\n",
      "45:24:35 , 37:22:2 , 20:38:20\n",
      "average daily usages in week1 6:29:13\n",
      "2016331072\n"
     ]
    },
    {
     "data": {
      "image/png": "[encoded data removed]",
      "text/plain": [
       "<Figure size 2520x360 with 11 Axes>"
      ]
     },
     "metadata": {
      "needs_background": "light"
     },
     "output_type": "display_data"
    }
   ],
   "source": [
    "plotIndividualUsersUsageInSeperateGraphs(\"foregroundTime\")"
   ]
  },
  {
   "cell_type": "markdown",
   "metadata": {},
   "source": [
    "# plot average weekly launch count in one graph"
   ]
  },
  {
   "cell_type": "code",
   "execution_count": 65,
   "metadata": {},
   "outputs": [
    {
     "name": "stdout",
     "output_type": "stream",
     "text": [
      "[4056, 3881, 3400]\n"
     ]
    },
    {
     "data": {
      "image/png": "[encoded data removed]",
      "text/plain": [
       "<Figure size 432x288 with 1 Axes>"
      ]
     },
     "metadata": {
      "needs_background": "light"
     },
     "output_type": "display_data"
    }
   ],
   "source": [
    "getAverageWeeklyUsage(\"launchCount\")"
   ]
  },
  {
   "cell_type": "markdown",
   "metadata": {},
   "source": [
    "# plot individual users launch count in seperate graphs"
   ]
  },
  {
   "cell_type": "code",
   "execution_count": 56,
   "metadata": {},
   "outputs": [
    {
     "name": "stdout",
     "output_type": "stream",
     "text": [
      "[7925, 8936, 7599]\n",
      "0000000202\n",
      "[1122, 1692, 1720]\n",
      "2016615144\n",
      "[5996, 5307, 4774]\n",
      "2016331099\n",
      "[4570, 3847, 3710]\n",
      "2016331068\n",
      "[1513, 1220, 1375]\n",
      "2016331066\n",
      "[1652, 1873, 1526]\n",
      "2016331012\n",
      "[2438, 2561, 3276]\n",
      "2016331037\n",
      "[1919, 1224, 1819]\n",
      "2016331089\n",
      "[4485, 3658, 4240]\n",
      "2016331049\n",
      "[7992, 6942, 4174]\n",
      "2016331102\n",
      "[5013, 5433, 3188]\n",
      "2016331072\n"
     ]
    },
    {
     "data": {
      "image/png": "[encoded data removed]",
      "text/plain": [
       "<Figure size 2520x360 with 11 Axes>"
      ]
     },
     "metadata": {
      "needs_background": "light"
     },
     "output_type": "display_data"
    }
   ],
   "source": [
    "plotIndividualUsersUsageInSeperateGraphs(\"launchCount\")"
   ]
  },
  {
   "cell_type": "markdown",
   "metadata": {},
   "source": [
    "# show weekly usage of any specific app"
   ]
  },
  {
   "cell_type": "code",
   "execution_count": 82,
   "metadata": {},
   "outputs": [],
   "source": [
    "#function\n",
    "\n",
    "def getUsageOfSpecificApp(startTime,endTime,usage,packageName,hour):\n",
    "    usageTime = 0\n",
    "    for i in range(startTime,endTime,hour):\n",
    "        ind = str(i)\n",
    "        if ind in usage:\n",
    "            hourlyUsageArray = usage[ind]\n",
    "            for hourlyUsage in hourlyUsageArray:\n",
    "                #hourlyUsage = hourlyUsageArray[0]\n",
    "                if hourlyUsage[\"packageName\"] == packageName:\n",
    "                    usageTime+=hourlyUsage[\"foregroundTime\"]\n",
    "    return usageTime"
   ]
  },
  {
   "cell_type": "code",
   "execution_count": null,
   "metadata": {},
   "outputs": [],
   "source": [
    "packageName =  \"com.ahtrapotpid.appusagetracker\"\n",
    "\n",
    "\"weekOneStartTime\"\n",
    "\"weekTwoStartTime\"\n",
    "\"weekThreeStartTime\"\n",
    "\n",
    "weekOne = 0\n",
    "weekTwo = 0\n",
    "weekThree = 0\n",
    "weekFour = 0\n",
    "\n",
    "\n",
    "\n",
    "userCount = 0\n",
    "\n",
    "fig, ax = plt.subplots(ncols=len(st), figsize=(40, 5)) # len(st) number of user\n",
    "#fig, ax = plt.subplots()\n",
    "\n",
    "\n",
    "def autolabel(rects):\n",
    "    \"\"\"Attach a text label above each bar in *rects*, displaying its height.\"\"\"\n",
    "    for rect in rects:\n",
    "        height = rect.get_height()\n",
    "        ax.annotate('{}'.format(height),\n",
    "                    xy=(rect.get_x() + rect.get_width() / 2, height),\n",
    "                    xytext=(0, 3),  # 3 points vertical offset\n",
    "                    textcoords=\"offset points\",\n",
    "                    ha='center', va='bottom')\n",
    "\n",
    "for key in userInfo:\n",
    "    userCount+=1\n",
    "    user = userInfo[key]\n",
    "    weekTwo = user[\"weekTwoStartTime\"]\n",
    "    weekOne = weekTwo - weekPeriod\n",
    "    weekThree = weekTwo + weekPeriod\n",
    "    weekFour = weekThree + weekPeriod\n",
    "\n",
    "    \n",
    "    usage = usageHistory[key]\n",
    "    avgUsage = [0,0,0]\n",
    "    \n",
    "    avgUsage[0] = getUsageOfSpecificApp(weekOne,weekTwo,usage,packageName,hour)\n",
    "    avgUsage[1] = getUsageOfSpecificApp(weekTwo,weekThree,usage,packageName,hour)\n",
    "    avgUsage[2] = getUsageOfSpecificApp(weekThree,weekFour,usage,packageName,hour)\n",
    "\n",
    "    print(avgUsage)\n",
    "    print(\"{0} , {1} , {2}\".format(convertMillis(avgUsage[0]),convertMillis(avgUsage[1]),convertMillis(avgUsage[2])))\n",
    "    print(key)\n",
    "    \n",
    "    tick_label = ['Week1', 'Week2', 'Week3']\n",
    "    x = np.arange(0,21,10) # the label locations\n",
    "    width = 0.8  # the width of the bars\n",
    "    \n",
    "    rect = ax[userCount-1].bar(x, avgUsage, width, label=key)\n",
    "    #autolabel(rect)\n",
    "    ax[userCount-1].set_ylabel('Time in Milis')\n",
    "    ax[userCount-1].set_title('Weekly usage of App Usage Monitor chart')\n",
    "    ax[userCount-1].set_xticks(x)\n",
    "    ax[userCount-1].set_xticklabels(tick_label)\n",
    "    ax[userCount-1].legend()\n",
    "    fig.tight_layout()\n",
    "    \n",
    "plt.show()\n"
   ]
  },
  {
   "cell_type": "markdown",
   "metadata": {},
   "source": [
    "# show top 10 app used(usage) in each week"
   ]
  },
  {
   "cell_type": "code",
   "execution_count": 67,
   "metadata": {},
   "outputs": [],
   "source": [
    "#functions\n",
    "\n",
    "def getDicto(startTime,endTime,hour,appsInstallationTime,usage,purpose,weekOne,dictionary):\n",
    "    packageName = \"\"\n",
    "    dicto = dictionary\n",
    "    exclude = [\"Quickstep\",\"System launcher\",\"Launcher3\",\"POCO Launcher\",\"System UI\",\"One UI Home\",\"Huawei Home\"]\n",
    "    \n",
    "    for i in range(startTime,endTime,hour):\n",
    "        ind = str(i)\n",
    "        if ind in usage:\n",
    "            hourlyUsageArray = usage[ind]\n",
    "            for hourlyUsage in hourlyUsageArray:\n",
    "                packageName = hourlyUsage[\"packageName\"].replace('.','_dot_')\n",
    "                if packageName in appsInstallationTime:\n",
    "                    installTime = appsInstallationTime[packageName]['installationTime']\n",
    "                    if installTime < weekOne:\n",
    "                        if hourlyUsage['name'] in dicto and hourlyUsage['name'] not in exclude:\n",
    "                            dicto[hourlyUsage['name']]+=hourlyUsage[purpose]\n",
    "                        elif hourlyUsage['name'] not in exclude:\n",
    "                             dicto[hourlyUsage['name']]=hourlyUsage[purpose]\n",
    "                else:\n",
    "                    #print(packageName)\n",
    "                    pass\n",
    "    return dicto\n",
    "\n",
    "def getTopTen(purpose):\n",
    "    \n",
    "    \"weekOneStartTime\"\n",
    "    \"weekTwoStartTime\"\n",
    "    \"weekThreeStartTime\"\n",
    "\n",
    "    weekOne = 0\n",
    "    weekTwo = 0\n",
    "    weekThree = 0\n",
    "    weekFour = 0\n",
    "\n",
    "    userCount = 0\n",
    "\n",
    "    dicto1 = {}\n",
    "    dicto2 = {}\n",
    "    dicto3 = {}\n",
    "    \n",
    "\n",
    "    for key in userInfo:\n",
    "        userCount+=1\n",
    "        user = userInfo[key]\n",
    "        weekTwo = user[\"weekTwoStartTime\"]\n",
    "        weekOne = weekTwo - weekPeriod\n",
    "        weekThree = weekTwo + weekPeriod\n",
    "        weekFour = weekThree + weekPeriod\n",
    "\n",
    "\n",
    "        usage = usageHistory[key]\n",
    "\n",
    "        appsInstallationTime = targetHistory[key]['appsInstallationInfo']\n",
    "\n",
    "        dicto1= getDicto(weekOne,weekTwo,hour,appsInstallationTime,usage,purpose,weekOne,dicto1)\n",
    "        dicto2= getDicto(weekTwo,weekThree,hour,appsInstallationTime,usage,purpose,weekOne,dicto2)\n",
    "        dicto3= getDicto(weekThree,weekFour,hour,appsInstallationTime,usage,purpose,weekOne,dicto3)\n",
    "\n",
    "\n",
    "    for i in dicto1:\n",
    "        dicto1[i]/=userCount\n",
    "    for i in dicto2:\n",
    "        dicto2[i]/=userCount\n",
    "    for i in dicto3:\n",
    "        dicto3[i]/=userCount\n",
    "\n",
    "    week1 = sorted(dicto1.items(), key = lambda kv:(kv[1], kv[0]))[-10:]\n",
    "    week2 = sorted(dicto2.items(), key = lambda kv:(kv[1], kv[0]))[-10:]\n",
    "    week3 = sorted(dicto3.items(), key = lambda kv:(kv[1], kv[0]))[-10:]\n",
    "    week1.reverse()\n",
    "    week2.reverse()\n",
    "    week3.reverse()\n",
    "\n",
    "\n",
    "    print(\"Week1 Week2 Week3\")\n",
    "    \n",
    "    if purpose == \"launchCount\":\n",
    "        \n",
    "        for i in range(10):\n",
    "            print(i+1, end =\" \")\n",
    "            print(\" {0} used {1}\".format(week1[i][0],week1[i][1]), end =\" \")\n",
    "            print(\"{0} used {1}\".format(week2[i][0],week2[i][1]), end =\" \")\n",
    "            print(\"{0} used {1}\".format(week3[i][0],week3[i][1]))\n",
    "    else:\n",
    "        for i in range(10):\n",
    "            print(i+1, end =\" \")\n",
    "            print(\" {0} used {1}\".format(week1[i][0],convertMillis(week1[i][1])), end =\" \")\n",
    "            print(\"{0} used {1}\".format(week2[i][0],convertMillis(week2[i][1])), end =\" \")\n",
    "            print(\"{0} used {1}\".format(week3[i][0],convertMillis(week3[i][1])))\n",
    "\n",
    "    fig, ax = plt.subplots(ncols=3, figsize=(35, 5)) # len(st) number of user\n",
    "    #fig, ax = plt.subplots()\n",
    "\n",
    "    def autolabel(rects):\n",
    "        \"\"\"Attach a text label above each bar in *rects*, displaying its height.\"\"\"\n",
    "        for rect in rects:\n",
    "            height = rect.get_height()\n",
    "            ax.annotate('{}'.format(height),\n",
    "                        xy=(rect.get_x() + rect.get_width() / 2, height),\n",
    "                        xytext=(0, 3),  # 3 points vertical offset\n",
    "                        textcoords=\"offset points\",\n",
    "                        ha='center', va='bottom')\n",
    "\n",
    "    data1 = [j for (i,j) in week1]\n",
    "    tick_label1 = [i for (i,j) in week1]\n",
    "    data2 = [j for (i,j) in week2]\n",
    "    tick_label2 = [i for (i,j) in week2]\n",
    "    data3 = [j for (i,j) in week3]\n",
    "    tick_label3 = [i for (i,j) in week3]\n",
    "\n",
    "    data = [data1,data2,data3]\n",
    "    tick_label = [tick_label1,tick_label2,tick_label3]\n",
    "\n",
    "\n",
    "    for i in range(3):\n",
    "        x = np.arange(0,10) # the label locations\n",
    "        width = 0.8  # the width of the bars\n",
    "\n",
    "        rect = ax[i].bar(x, data[i], width, label=\"week\"+str(i+1))\n",
    "        #autolabel(rect)\n",
    "        if purpose == \"launchCount\":\n",
    "            ax[i].set_ylabel('LaunchCount')\n",
    "        else:\n",
    "            ax[i].set_ylabel('Time in Millis')\n",
    "        ax[i].set_title('Top 10 used Apps in week'+str(i+1))\n",
    "        ax[i].set_xticks(x)\n",
    "        ax[i].set_xticklabels(tick_label[i])\n",
    "        ax[i].legend()\n",
    "        fig.tight_layout()\n",
    "    plt.show()"
   ]
  },
  {
   "cell_type": "code",
   "execution_count": 68,
   "metadata": {
    "scrolled": true
   },
   "outputs": [
    {
     "name": "stdout",
     "output_type": "stream",
     "text": [
      "Week1 Week2 Week3\n",
      "1  Facebook used 7:18:24 Facebook used 6:52:56 Messenger used 6:3:57\n",
      "2  Messenger used 6:56:12 Messenger used 6:51:6 Facebook used 6:3:21\n",
      "3  Chrome used 4:45:25 YouTube used 4:37:10 YouTube used 5:47:57\n",
      "4  YouTube used 3:45:27 Chrome used 2:54:5 Chrome used 3:17:39\n",
      "5  Lite used 1:33:49 Lite used 1:38:12 Lite used 1:44:5\n",
      "6  Zoom used 1:9:26 WhatsApp used 1:5:29 Phone used 1:25:37\n",
      "7  Phone used 1:8:37 Zoom used 0:55:26 WhatsApp used 1:7:50\n",
      "8  WhatsApp used 1:4:51 Phone used 0:51:21 MX Player used 0:49:49\n",
      "9  Instagram used 0:42:14 MX Player used 0:32:3 Clock used 0:33:51\n",
      "10  Gallery used 0:36:20 PL used 0:25:32 Telegram used 0:29:44\n"
     ]
    },
    {
     "data": {
      "image/png": "[encoded data removed]",
      "text/plain": [
       "<Figure size 2520x360 with 3 Axes>"
      ]
     },
     "metadata": {
      "needs_background": "light"
     },
     "output_type": "display_data"
    }
   ],
   "source": [
    "getTopTen(\"foregroundTime\")"
   ]
  },
  {
   "cell_type": "markdown",
   "metadata": {},
   "source": [
    "# show top 10 app used(launch) in each week"
   ]
  },
  {
   "cell_type": "code",
   "execution_count": 69,
   "metadata": {
    "scrolled": true
   },
   "outputs": [
    {
     "name": "stdout",
     "output_type": "stream",
     "text": [
      "Week1 Week2 Week3\n",
      "1  Facebook used 682.9090909090909 Facebook used 698.4545454545455 Facebook used 514.9090909090909\n",
      "2  Messenger used 516.0909090909091 Messenger used 570.8181818181819 Messenger used 468.90909090909093\n",
      "3  WhatsApp used 329.54545454545456 WhatsApp used 349.90909090909093 WhatsApp used 329.45454545454544\n",
      "4  Gallery used 127.18181818181819 Phone used 93.45454545454545 Phone used 86.54545454545455\n",
      "5  Chrome used 107.0 Security used 89.27272727272727 YouTube used 83.9090909090909\n",
      "6  Security used 103.0909090909091 Gallery used 79.72727272727273 Security used 82.45454545454545\n",
      "7  Phone used 82.63636363636364 Chrome used 77.81818181818181 Gallery used 73.36363636363636\n",
      "8  MX Player used 81.63636363636364 YouTube used 65.54545454545455 Chrome used 68.9090909090909\n",
      "9  Settings used 73.54545454545455 Contacts and dialer used 63.72727272727273 Settings used 58.81818181818182\n",
      "10  YouTube used 62.90909090909091 Settings used 53.81818181818182 Contacts and dialer used 55.09090909090909\n"
     ]
    },
    {
     "data": {
      "image/png": "[encoded data removed]",
      "text/plain": [
       "<Figure size 2520x360 with 3 Axes>"
      ]
     },
     "metadata": {
      "needs_background": "light"
     },
     "output_type": "display_data"
    }
   ],
   "source": [
    "getTopTen(\"launchCount\")"
   ]
  },
  {
   "cell_type": "markdown",
   "metadata": {},
   "source": [
    "# Time periods when apps were used the most"
   ]
  },
  {
   "cell_type": "code",
   "execution_count": 99,
   "metadata": {},
   "outputs": [
    {
     "name": "stdout",
     "output_type": "stream",
     "text": [
      "0000000202\n",
      "[('Afternoon', 75230366), ('LateEvening', 49056778), ('LateAtNight', 46017478), ('Evening', 42772130), ('Morning', 19032759)]\n",
      "2016615144\n",
      "[('Afternoon', 30360887), ('LateEvening', 24465051), ('Evening', 19313232), ('Morning', 15627274), ('LateAtNight', 12582253)]\n",
      "2016331099\n",
      "[('Afternoon', 44964533), ('LateEvening', 44785386), ('LateAtNight', 27849915), ('Evening', 22055296), ('Morning', 12923776)]\n",
      "2016331068\n",
      "[('Afternoon', 45150756), ('LateAtNight', 35322520), ('LateEvening', 23424643), ('Evening', 23180774), ('Morning', 20904967)]\n",
      "2016331066\n",
      "[('LateAtNight', 34651282), ('Afternoon', 28352422), ('Evening', 18982608), ('Morning', 15189045), ('LateEvening', 3597341)]\n",
      "2016331012\n",
      "[('Evening', 24928223), ('Morning', 20660240), ('Afternoon', 14284137), ('LateEvening', 11139636), ('LateAtNight', 9968609)]\n",
      "2016331037\n",
      "[('Afternoon', 27433083), ('Morning', 16545970), ('LateEvening', 13650867), ('LateAtNight', 10324866), ('Evening', 10135803)]\n",
      "2016331089\n",
      "[('Afternoon', 118255255), ('Morning', 66184826), ('LateAtNight', 49393878), ('Evening', 35883991), ('LateEvening', 33032880)]\n",
      "2016331049\n",
      "[('Afternoon', 56754365), ('Evening', 35240649), ('LateEvening', 27445197), ('LateAtNight', 25853451), ('Morning', 23780399)]\n",
      "2016331102\n",
      "[('Afternoon', 30725095), ('LateAtNight', 24179351), ('Morning', 16350070), ('LateEvening', 14907777), ('Evening', 14905989)]\n",
      "2016331072\n",
      "[('Afternoon', 43994966), ('LateAtNight', 41865862), ('LateEvening', 32649244), ('Morning', 27175353), ('Evening', 17789726)]\n"
     ]
    }
   ],
   "source": [
    "weekOne = 0\n",
    "weekTwo = 0\n",
    "\n",
    "userCount = 0\n",
    "\n",
    "dicto = {\"LateAtNight\":0,\"LateEvening\":0,\"Afternoon\":0,\"Evening\":0,\"Morning\":0}\n",
    "\n",
    "\n",
    "for key in userInfo:\n",
    "    userCount+=1\n",
    "    user = userInfo[key]\n",
    "    weekTwo = user[\"weekTwoStartTime\"]\n",
    "    weekOne = weekTwo - weekPeriod\n",
    "\n",
    "    tempDicto = {\"LateAtNight\":0,\"LateEvening\":0,\"Afternoon\":0,\"Evening\":0,\"Morning\":0}\n",
    "    usage = usageHistory[key]\n",
    "    appsInstallationTime = targetHistory[key]['appsInstallationInfo']\n",
    "    \n",
    "    for i in range(weekOne,weekTwo,day):\n",
    "        start = i\n",
    "        end = i+6*hour\n",
    "        tempDicto[\"LateAtNight\"]+= getUsageOrLaunchCount(start,end,hour,appsInstallationTime,usage,\"foregroundTime\",weekOne)\n",
    "        dicto[\"LateAtNight\"]+=tempDicto[\"LateAtNight\"]\n",
    "        start = end\n",
    "        end = end + 6 * hour\n",
    "        tempDicto[\"Morning\"]+= getUsageOrLaunchCount(start,end,hour,appsInstallationTime,usage,\"foregroundTime\",weekOne)\n",
    "        dicto[\"Morning\"]+=tempDicto[\"Morning\"]\n",
    "        start = end\n",
    "        end = end + 6 * hour\n",
    "        tempDicto[\"Afternoon\"]+= getUsageOrLaunchCount(start,end,hour,appsInstallationTime,usage,\"foregroundTime\",weekOne)\n",
    "        dicto[\"Afternoon\"]+=tempDicto[\"Afternoon\"]\n",
    "        start = end\n",
    "        end = end + 3 * hour\n",
    "        tempDicto[\"Evening\"]+= getUsageOrLaunchCount(start,end,hour,appsInstallationTime,usage,\"foregroundTime\",weekOne)\n",
    "        dicto[\"Evening\"]+=tempDicto[\"Evening\"]\n",
    "        start = end\n",
    "        end = end + 3 * hour\n",
    "        tempDicto[\"LateEvening\"]+= getUsageOrLaunchCount(start,end,hour,appsInstallationTime,usage,\"foregroundTime\",weekOne)\n",
    "        dicto[\"LateEvening\"]+=tempDicto[\"LateEvening\"]\n",
    "    \n",
    "    temp = sorted(tempDicto.items(), key = lambda kv:(kv[1], kv[0]))\n",
    "    temp.reverse()\n",
    "    print(key)\n",
    "    print(temp)\n",
    "        \n",
    "for i in dicto:\n",
    "        dicto[i]/=userCount\n",
    "#temp = sorted(dicto.items(), key = lambda kv:(kv[1], kv[0]))[-10:]\n",
    "#temp.reverse()\n",
    "#print(temp)"
   ]
  }
 ],
 "metadata": {
  "kernelspec": {
   "display_name": "Python 3",
   "language": "python",
   "name": "python3"
  },
  "language_info": {
   "codemirror_mode": {
    "name": "ipython",
    "version": 3
   },
   "file_extension": ".py",
   "mimetype": "text/x-python",
   "name": "python",
   "nbconvert_exporter": "python",
   "pygments_lexer": "ipython3",
   "version": "3.7.6"
  }
 },
 "nbformat": 4,
 "nbformat_minor": 4
}
